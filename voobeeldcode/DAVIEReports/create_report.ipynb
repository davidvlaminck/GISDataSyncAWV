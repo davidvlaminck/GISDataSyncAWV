{
  "nbformat": 4,
  "nbformat_minor": 0,
  "metadata": {
    "colab": {
      "provenance": []
    },
    "kernelspec": {
      "name": "python3",
      "display_name": "Python 3"
    },
    "language_info": {
      "name": "python"
    }
  },
  "cells": [
    {
      "cell_type": "markdown",
      "source": [
        "Pas eerst onderstaande parameters aan en voer het script uit. Elke keer je de parameters aanpast, moet je ook het script uitvoeren."
      ],
      "metadata": {
        "id": "n4tPUGU6EbTJ"
      }
    },
    {
      "cell_type": "code",
      "source": [
        "filters = {\n",
        "    \"besteknummer\": \"VWT/EW/2020/024\",\n",
        "    #   \"aanvragers\": \"[b78943b8-caaf-426a-ade9-773e55801434]\",\n",
        "    #   \"statusSubstatusCombinaties\": \"[IN_OPMAAK]\",\n",
        "    #   \"creatieDatumVan\": \"2024-04-26\",\n",
        "    #   \"creatieDatumTot\": \"2024-04-26\",\n",
        "    #   \"vrijeZoekterm\": \"string\",\n",
        "    #   \"verbergElisaAanleveringen\": true,\n",
        "    #   \"ondernemingsnummer\": \"0687738908\",\n",
        "    #   \"dienstbevelnummer\": \"string\",\n",
        "    #   \"betrokkenen\": \"[b78943b8-caaf-426a-ade9-773e55801434]\",\n",
        "    #   \"type\": \"Studie\"\n",
        "    #\n",
        "}\n",
        "cookie = 'd9b0fdba990a4891a450d80c6c99ab62'"
      ],
      "metadata": {
        "id": "FHBxj-wbEZ49"
      },
      "execution_count": 7,
      "outputs": []
    },
    {
      "cell_type": "markdown",
      "source": [
        "Voer onderstaand script uit. Het resultaat komt in de map te staan waarin de notebook wordt uitgevoerd."
      ],
      "metadata": {
        "id": "oa3DA5M9EpTN"
      }
    },
    {
      "cell_type": "code",
      "execution_count": 12,
      "metadata": {
        "colab": {
          "base_uri": "https://localhost:8080/"
        },
        "id": "-9BFRt5tDflg",
        "outputId": "44f9ddd2-c08a-4153-c5a5-61882ede78c5"
      },
      "outputs": [
        {
          "output_type": "stream",
          "name": "stdout",
          "text": [
            "fetched 96 results. Starting to process them.\n"
          ]
        },
        {
          "output_type": "stream",
          "name": "stderr",
          "text": [
            "100%|██████████| 96/96 [00:13<00:00,  7.15it/s]"
          ]
        },
        {
          "output_type": "stream",
          "name": "stdout",
          "text": [
            "\n",
            "Done. Look for aanleveringen_rapport.csv\n"
          ]
        },
        {
          "output_type": "stream",
          "name": "stderr",
          "text": [
            "\n"
          ]
        }
      ],
      "source": [
        "import abc\n",
        "import csv\n",
        "from tqdm import tqdm\n",
        "from enum import Enum\n",
        "\n",
        "from requests import Session, Response\n",
        "\n",
        "class Environment(Enum):\n",
        "    PRD = 'prd',\n",
        "    DEV = 'dev',\n",
        "    TEI = 'tei',\n",
        "    AIM = 'aim'\n",
        "\n",
        "\n",
        "class AbstractRequester(Session, metaclass=abc.ABCMeta):\n",
        "    def __init__(self, first_part_url: str = ''):\n",
        "        super().__init__()\n",
        "        self.first_part_url = first_part_url\n",
        "\n",
        "    @abc.abstractmethod\n",
        "    def get(self, url: str = '', **kwargs) -> Response:\n",
        "        return super().get(url=self.first_part_url + url, **kwargs)\n",
        "\n",
        "    @abc.abstractmethod\n",
        "    def post(self, url: str = '', **kwargs) -> Response:\n",
        "        return super().post(url=self.first_part_url + url, **kwargs)\n",
        "\n",
        "    @abc.abstractmethod\n",
        "    def put(self, url: str = '', **kwargs) -> Response:\n",
        "        return super().put(url=self.first_part_url + url, **kwargs)\n",
        "\n",
        "    @abc.abstractmethod\n",
        "    def patch(self, url: str = '', **kwargs) -> Response:\n",
        "        return super().patch(url=self.first_part_url + url, **kwargs)\n",
        "\n",
        "    @abc.abstractmethod\n",
        "    def delete(self, url: str = '', **kwargs) -> Response:\n",
        "        return super().delete(url=self.first_part_url + url, **kwargs)\n",
        "\n",
        "\n",
        "class CookieRequester(AbstractRequester):\n",
        "    def __init__(self, cookie: str = '', first_part_url: str = ''):\n",
        "        super().__init__(first_part_url=first_part_url)\n",
        "        self.cookie = cookie\n",
        "        self.headers.update({'Cookie': f'acm-awv={cookie}'})\n",
        "\n",
        "    def get(self, url: str = '', **kwargs) -> Response:\n",
        "        return super().get(url=url, **kwargs)\n",
        "\n",
        "    def post(self, url: str = '', **kwargs) -> Response:\n",
        "        return super().post(url=url, **kwargs)\n",
        "\n",
        "    def put(self, url: str = '', **kwargs) -> Response:\n",
        "        return super().put(url=url, **kwargs)\n",
        "\n",
        "    def patch(self, url: str = '', **kwargs) -> Response:\n",
        "        return super().patch(url=url, **kwargs)\n",
        "\n",
        "    def delete(self, url: str = '', **kwargs) -> Response:\n",
        "        return super().delete(url=url, **kwargs)\n",
        "\n",
        "\n",
        "class RequesterFactory:\n",
        "    first_part_url_dict = {\n",
        "        Environment.PRD: 'https://services.apps.mow.vlaanderen.be/',\n",
        "        Environment.TEI: 'https://services.apps-tei.mow.vlaanderen.be/',\n",
        "        Environment.DEV: 'https://services.apps-dev.mow.vlaanderen.be/',\n",
        "        Environment.AIM: 'https://services-aim.apps-dev.mow.vlaanderen.be/'\n",
        "    }\n",
        "\n",
        "    @classmethod\n",
        "    def create_requester(cls, env: Environment, **kwargs\n",
        "                         ) -> AbstractRequester:\n",
        "        try:\n",
        "            first_part_url = cls.first_part_url_dict[env]\n",
        "        except KeyError as exc:\n",
        "            raise ValueError(f\"Invalid environment: {env}\") from exc\n",
        "\n",
        "        return CookieRequester(cookie=kwargs['cookie'], first_part_url=first_part_url.replace('services.', ''))\n",
        "\n",
        "\n",
        "class DavieCoreClient:\n",
        "    def __init__(self, requester: AbstractRequester):\n",
        "        self.requester = requester\n",
        "        self.requester.first_part_url += 'davie-aanlevering/api/'\n",
        "\n",
        "    def aanlevering_by_id(self, id: str) -> dict:\n",
        "        url = f'aanleveringen/{id}'\n",
        "        response = self.requester.get(url=url)\n",
        "        return response.json()\n",
        "\n",
        "    def zoek_aanleveringen(self, filter_dict: dict) -> list[dict]:\n",
        "        _from = 0\n",
        "        size = 100\n",
        "        if filter_dict.get('sortBy') is None:\n",
        "            filter_dict['sortBy'] = {\"property\": \"creatieDatum\", \"order\": \"desc\"}\n",
        "\n",
        "        results = []\n",
        "        while True:\n",
        "            url = f'aanleveringen/zoek?from={_from}&size={size}'\n",
        "            response = self.requester.post(url=url, json=filter_dict)\n",
        "\n",
        "            result_dict = response.json()\n",
        "            results.extend(result_dict['data'])\n",
        "\n",
        "            if result_dict['links'].get('next') is None:\n",
        "                break\n",
        "\n",
        "            _from += size\n",
        "\n",
        "        print(f'fetched {len(results)} results. Starting to process them.')\n",
        "        return results\n",
        "\n",
        "    def historiek_by_aanlevering_id(self, id) -> list[dict]:\n",
        "        url = f'aanleveringen/{id}/historiek'\n",
        "        response = self.requester.get(url=url)\n",
        "        return response.json()\n",
        "\n",
        "requester = RequesterFactory.create_requester(cookie=cookie, env=Environment.PRD)\n",
        "davie_client = DavieCoreClient(requester=requester)\n",
        "\n",
        "aanleveringen = davie_client.zoek_aanleveringen(filter_dict=filters)\n",
        "\n",
        "with open('aanleveringen_rapport.csv', 'w', newline='') as csvfile:\n",
        "    writer = csv.writer(csvfile, delimiter='\\t', quoting=csv.QUOTE_MINIMAL)\n",
        "    writer.writerow(\n",
        "        ['Nummer aanlevering', 'Datum/tijd aanlevering', 'Gestart door', 'Verificator bij creatie',\n",
        "         'Contact AWV', 'Dossier', 'Bestek', 'Dienstbevel', 'Eigen referentie', 'Status', 'Datum/tijd goedkeuring',\n",
        "         'Goedgekeurd door'])\n",
        "    for aanlevering in tqdm(aanleveringen):\n",
        "        aanlevering_dict = aanlevering['aanlevering']\n",
        "        aanlevering_details = davie_client.aanlevering_by_id(id=aanlevering['aanlevering']['id'])['aanlevering']\n",
        "        verificateur = ''\n",
        "        if aanlevering_details['info'].get('standaardVerificator'):\n",
        "            verificateur = f\"{aanlevering_details['info']['standaardVerificator']['voornaam']} {aanlevering_details['info']['standaardVerificator']['naam']}\".rstrip()\n",
        "        awv_contact = ''\n",
        "        if aanlevering_details['info'].get('awvContactInfo'):\n",
        "            awv_contact = f\"{aanlevering_details['info']['awvContactInfo']['gebruiker']['voornaam']} {aanlevering_details['info']['awvContactInfo']['gebruiker']['naam']}\".rstrip()\n",
        "\n",
        "        datumtijd_goedkeuring = ''\n",
        "        goedgekeurd_door = ''\n",
        "        if aanlevering_dict['status'] == 'DATA_AANGELEVERD' and aanlevering_dict['substatus'] == 'GOEDGEKEURD':\n",
        "            historiek = davie_client.historiek_by_aanlevering_id(id=aanlevering_dict['id'])\n",
        "            goedkeuring = next((a for a in historiek if a['status'] == 'DATA_AANGELEVERD' and\n",
        "                                a['substatus'] == 'GOEDGEKEURD' and a['volledigeNaam'] != 'Systeem'), None)\n",
        "            if goedkeuring is not None:\n",
        "                datumtijd_goedkeuring = goedkeuring['tijdstip']\n",
        "                goedgekeurd_door = goedkeuring['volledigeNaam']\n",
        "\n",
        "        writer.writerow([\n",
        "            aanlevering_dict['aanleveringnummer'],\n",
        "            aanlevering_dict['aanmaakDatum'],\n",
        "            aanlevering_dict['aanvrager'],\n",
        "            verificateur,\n",
        "            awv_contact,\n",
        "            aanlevering_dict['dossierNummer'],\n",
        "            aanlevering_dict['besteknummer'],\n",
        "            aanlevering_dict.get('dienstbevelnummer', ''),\n",
        "            aanlevering_dict['referentie'],\n",
        "            f\"{aanlevering_dict['status']} {aanlevering_dict.get('substatus', '')}\".rstrip(),\n",
        "            datumtijd_goedkeuring,\n",
        "            goedgekeurd_door\n",
        "        ])\n",
        "print('\\nDone. Look for aanleveringen_rapport.csv')\n"
      ]
    }
  ]
}